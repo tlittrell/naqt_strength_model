{
 "cells": [
  {
   "cell_type": "code",
   "execution_count": null,
   "metadata": {},
   "outputs": [],
   "source": [
    "import pandas as pd\n",
    "import pymc3 as pm\n",
    "import arviz as az\n",
    "import matplotlib.pyplot as plt\n",
    "import seaborn as sns\n",
    "import theano.tensor as tt\n",
    "import numpy as np\n",
    "\n",
    "%reload_kedro\n",
    "%load_ext autoreload\n",
    "%autoreload 2"
   ]
  },
  {
   "cell_type": "markdown",
   "metadata": {},
   "source": [
    "# Analyze game data"
   ]
  },
  {
   "cell_type": "code",
   "execution_count": null,
   "metadata": {},
   "outputs": [],
   "source": [
    "# Process all games\n",
    "all_games = io.load(\"2018_all_games\")\n",
    "rename_dict = {\n",
    "    \"P\":\"team_1_powers\",\n",
    "    \"TU\":\"team_1_tens\",\n",
    "    \"I\":\"team_1_negs\",\n",
    "    \"B\":\"team_1_bonus_points\",\n",
    "    \"PPB\":\"team_1_ppb\",\n",
    "    \"P.1\":\"team_2_powers\",\n",
    "    \"TU.1\":\"team_2_tens\",\n",
    "    \"I.1\":\"team_2_negs\",\n",
    "    \"B.1\":\"team_2_bonus_points\",\n",
    "    \"PPB.1\":\"team_2_ppb\",\n",
    "    \"team\":\"team_1\",\n",
    "    \"Opponent\":\"team_2\"\n",
    "}\n",
    "print(all_games.shape)\n",
    "all_games = (all_games\n",
    "             .rename(rename_dict, axis=1)\n",
    "             .query(\"Score != 'Forfeit'\")\n",
    "             .eval(\"team_1_score = team_1_powers * 15 + team_1_tens * 10 - team_1_negs * 5 + team_1_bonus_points\")\n",
    "             .eval(\"team_2_score = team_2_powers * 15 + team_2_tens * 10 - team_2_negs * 5 + team_2_bonus_points\")\n",
    "             .eval(\"point_diff = team_1_score - team_2_score\")\n",
    "             .drop([\"Result\"], axis=1)\n",
    "            )\n",
    "all_games[\"point_diff_normalized\"] = (all_games[\"point_diff\"] - all_games[\"point_diff\"].mean()) / all_games[\"point_diff\"].std()\n",
    "\n",
    "# Add a unique numeric index for each team\n",
    "team_indices = (pd.DataFrame(list(set(all_games[\"team_1\"].unique()) | set(all_games[\"team_2\"].unique())))\n",
    "                .reset_index()\n",
    "                .rename({0:\"team\"}, axis=1)\n",
    "                .set_index(\"team\")\n",
    "                .to_dict()[\"index\"]\n",
    "               )\n",
    "all_games[\"team_1_index\"] = all_games[\"team_1\"].map(team_indices)\n",
    "all_games[\"team_2_index\"] = all_games[\"team_2\"].map(team_indices)\n",
    "\n",
    "assert all_games[all_games[\"team_1_index\"].isna()].empty\n",
    "assert all_games[all_games[\"team_2_index\"].isna()].empty\n",
    "\n",
    "# Find and remove duplicate games\n",
    "all_games[\"teams\"] = [tuple(sorted(x)) for x in zip(all_games[\"team_1\"], all_games[\"team_2\"])]\n",
    "all_games = (all_games\n",
    "             .drop_duplicates([\"Round\", \"teams\"])\n",
    "             .drop([\"teams\"], axis=1)\n",
    "            )\n",
    "\n",
    "print(all_games.shape)\n",
    "all_games.columns = all_games.columns.str.lower()"
   ]
  },
  {
   "cell_type": "markdown",
   "metadata": {},
   "source": [
    "### Model\n",
    "\n",
    "Model and code are based on [this article](http://danielweitzenfeld.github.io/passtheroc/blog/2014/10/28/bayes-premier-league/).\n",
    "\n",
    "Our goal is to come up with an underlying team strength parameter as well as uncertainty around that team strength parameter. Let $y_{gj}$ be the observed score for team $j$ in game $g$. We model the score using a Poisson distribution i.e. $y_{gj}|\\theta_{gj} \\sim Poisson(\\theta_{gj})$. Note that there is one $\\theta_{gj}$ for each team in each round. \n",
    "\n",
    "At the next level of the model, we model each $\\theta$ as a log-linear function:\n",
    "$$\n",
    "\\log \\theta_{g1} = attack_1 - defense_2 \\\\\n",
    "\\log \\theta_{g2} = attack_2 - defense_1\n",
    "$$\n",
    "i.e. we assume there is an attack and defense strength for each team. These parameters are modeled as a hierarchical model where, for each team $t$,\n",
    "$$\n",
    "attack_t \\sim N(\\mu_{attack},\\tau_{attack}) \\\\\n",
    "defense_t \\sim N(\\mu_{defense},\\tau_{defense})\n",
    "$$\n",
    "And in turn we have hyperpriors where $\\mu_{attack}, \\mu_{defense} \\sim N(.,.)$ and $\\tau_{attack}, \\tau_{defense} \\sim Gamma(.,.)$\n",
    "\n",
    "To ensure identifiability, we make the attack and defense parameters sum to 0:\n",
    "$$\n",
    "\\sum_{t \\in Teams} attack_t = 0 \\\\\n",
    "\\sum_{t \\in Teams} defense_t = 0\n",
    "$$\n"
   ]
  },
  {
   "cell_type": "code",
   "execution_count": null,
   "metadata": {},
   "outputs": [],
   "source": [
    "num_teams = len(set(all_games[\"team_1\"].unique()) | set(all_games[\"team_2\"].unique()))\n",
    "team_1 = all_games[\"team_1_index\"].values\n",
    "team_2 = all_games[\"team_2_index\"].values"
   ]
  },
  {
   "cell_type": "code",
   "execution_count": null,
   "metadata": {},
   "outputs": [],
   "source": [
    "# %debug\n",
    "with pm.Model() as model:\n",
    "    \n",
    "    #hyperpriors\n",
    "    tau_attack = pm.HalfNormal('tau_attack', sigma=10)\n",
    "\n",
    "    # priors\n",
    "    atts_star = pm.Normal(\"atts_star\", mu=0, sd=tau_attack, shape=num_teams)\n",
    "    \n",
    "    # likelihood of observed data\n",
    "    diff_theta = atts_star[team_1] - atts_star[team_2]\n",
    "    point_diff = pm.Normal('team_1_points', mu=diff_theta, sigma=100, observed=all_games[\"point_diff\"])\n",
    "\n",
    "    trace = pm.sample()"
   ]
  },
  {
   "cell_type": "code",
   "execution_count": null,
   "metadata": {},
   "outputs": [],
   "source": [
    "diff_summary = az.from_pymc3(trace)"
   ]
  },
  {
   "cell_type": "code",
   "execution_count": null,
   "metadata": {},
   "outputs": [],
   "source": [
    "team_ranks = (trace.get_values(\"atts_star\")).mean(axis=0).argsort()[::-1]\n",
    "team_indices_reverse = {val:key for key, val in team_indices.items()}\n",
    "[team_indices_reverse[idx] for idx in team_ranks]"
   ]
  },
  {
   "cell_type": "code",
   "execution_count": null,
   "metadata": {},
   "outputs": [],
   "source": []
  }
 ],
 "metadata": {
  "kernelspec": {
   "display_name": "Python 3",
   "language": "python",
   "name": "python3"
  },
  "language_info": {
   "codemirror_mode": {
    "name": "ipython",
    "version": 3
   },
   "file_extension": ".py",
   "mimetype": "text/x-python",
   "name": "python",
   "nbconvert_exporter": "python",
   "pygments_lexer": "ipython3",
   "version": "3.7.3"
  }
 },
 "nbformat": 4,
 "nbformat_minor": 2
}
